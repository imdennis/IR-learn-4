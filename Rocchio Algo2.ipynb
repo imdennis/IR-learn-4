{
 "cells": [
  {
   "cell_type": "code",
   "execution_count": 1,
   "metadata": {
    "collapsed": true
   },
   "outputs": [],
   "source": [
    "import numpy as np\n",
    "import math\n",
    "import pandas as pd\n",
    "import time\n",
    "from sklearn.metrics.pairwise import cosine_similarity "
   ]
  },
  {
   "cell_type": "code",
   "execution_count": 2,
   "metadata": {
    "collapsed": true
   },
   "outputs": [],
   "source": [
    "root_dir = './'\n",
    "doc_dir = './Document/'\n",
    "query_dir = './Query/'"
   ]
  },
  {
   "cell_type": "code",
   "execution_count": 3,
   "metadata": {
    "collapsed": true
   },
   "outputs": [],
   "source": [
    "doc_names = []\n",
    "query_names = []\n",
    "\n",
    "with open('doc_list.txt', 'r') as f:\n",
    "    doc_names = [line.strip() for line in f]\n",
    "\n",
    "with open('query_list.txt', 'r') as f:\n",
    "    query_names = [line.strip() for line in f]"
   ]
  },
  {
   "cell_type": "code",
   "execution_count": 4,
   "metadata": {
    "collapsed": true
   },
   "outputs": [],
   "source": [
    "training_set = {}\n",
    "\n",
    "for i in range(len(doc_names)):\n",
    "    with open(doc_dir + doc_names[i] , 'r') as f:\n",
    "        next(f)\n",
    "        next(f)\n",
    "        next(f)\n",
    "        words = []\n",
    "        for line in f:\n",
    "            words+=line.rstrip()[:-3].split(' ')\n",
    "            \n",
    "        training_set[i]=words"
   ]
  },
  {
   "cell_type": "code",
   "execution_count": 5,
   "metadata": {
    "collapsed": true
   },
   "outputs": [],
   "source": [
    "query_set = {}\n",
    "for i in range(len(query_names)):\n",
    "    with open(query_dir + query_names[i] , 'r') as f:\n",
    "        words = []\n",
    "        for line in f:\n",
    "             words+=line.rstrip()[:-3].split(' ')\n",
    "        query_set[i] = words"
   ]
  },
  {
   "cell_type": "code",
   "execution_count": 6,
   "metadata": {
    "collapsed": true
   },
   "outputs": [],
   "source": [
    "tf_dj_wi = {}\n",
    "tf_qj_wi = {}\n",
    "idf_wi = {}\n",
    "vc_dj = {}\n",
    "vc_qj = {}\n",
    "word_list = {}"
   ]
  },
  {
   "cell_type": "code",
   "execution_count": 7,
   "metadata": {
    "collapsed": true
   },
   "outputs": [],
   "source": [
    "#tf_d\n",
    "for j in range(len(training_set)):\n",
    "    tf_dj_wi[j] = {}\n",
    "    vc_dj[j] = vc = pd.value_counts(training_set[j])\n",
    "    len_set = len(training_set[j])\n",
    "    vc_index = list(vc.index)\n",
    "    for i in range(len(vc_index)):\n",
    "        tf_dj_wi[j][vc_index[i]] = vc[i] / len_set"
   ]
  },
  {
   "cell_type": "code",
   "execution_count": 8,
   "metadata": {
    "collapsed": true
   },
   "outputs": [],
   "source": [
    "#tf_q\n",
    "for j in range(len(query_set)):\n",
    "    tf_qj_wi[j] = {}\n",
    "    vc_qj[j] = vc = pd.value_counts(query_set[j])\n",
    "    len_set = len(query_set[j])\n",
    "    vc_index = list(vc.index)\n",
    "    for i in range(len(vc_index)):\n",
    "        tf_qj_wi[j][vc_index[i]] = vc[i] / len_set"
   ]
  },
  {
   "cell_type": "code",
   "execution_count": 9,
   "metadata": {
    "collapsed": true
   },
   "outputs": [],
   "source": [
    "#word_list\n",
    "all_index = []\n",
    "for j in range(len(vc_dj)):\n",
    "    all_index += list(vc_dj[j].index)\n",
    "    \n",
    "w = np.unique(all_index)\n",
    "for i in range(len(w)):\n",
    "    word_list[str(w[i])] = i"
   ]
  },
  {
   "cell_type": "code",
   "execution_count": 10,
   "metadata": {
    "collapsed": true
   },
   "outputs": [],
   "source": [
    "#idf\n",
    "for j in range(len(training_set)):\n",
    "    vc = vc_dj[j]\n",
    "    vc_index = list(vc.index)\n",
    "    \n",
    "    for i in range(len(vc)):\n",
    "        if vc_index[i] not in idf_wi:\n",
    "            idf_wi[vc_index[i]] = 1\n",
    "        else:\n",
    "            idf_wi[vc_index[i]] = idf_wi[vc_index[i]] + 1\n",
    "\n",
    "len_docs = len(training_set)\n",
    "for word in idf_wi:\n",
    "    idf_wi[word] = math.log10(len_docs/idf_wi[word])"
   ]
  },
  {
   "cell_type": "code",
   "execution_count": 11,
   "metadata": {
    "collapsed": true
   },
   "outputs": [],
   "source": [
    "def tf2vector(tf):\n",
    "    vector = [0]*len(word_list)\n",
    "    for word in tf:\n",
    "        if word in word_list: #some word might not in word list of documents\n",
    "            #vector = tf*idf \n",
    "            vector[word_list[word]] = tf[word]*idf_wi[word] \n",
    "    return vector"
   ]
  },
  {
   "cell_type": "code",
   "execution_count": 12,
   "metadata": {
    "collapsed": true
   },
   "outputs": [],
   "source": [
    "#tfidf of docs\n",
    "tfidf_dj = [[0]*len(word_list)]*len(training_set)\n",
    "for j in range(len(training_set)):\n",
    "    tfidf_dj[j] = tf2vector(tf_dj_wi[j])"
   ]
  },
  {
   "cell_type": "code",
   "execution_count": 13,
   "metadata": {
    "collapsed": true
   },
   "outputs": [],
   "source": [
    "def sim(vector_q):\n",
    "    return vector_q, cosine_similarity(vector_q, tfidf_dj)"
   ]
  },
  {
   "cell_type": "code",
   "execution_count": 46,
   "metadata": {
    "collapsed": true
   },
   "outputs": [],
   "source": [
    "it = 1\n",
    "alpha = 0.3\n",
    "beta = 0.7\n",
    "gamma = 0.0\n",
    "top = 5\n",
    "last = 1"
   ]
  },
  {
   "cell_type": "code",
   "execution_count": 45,
   "metadata": {
    "collapsed": true
   },
   "outputs": [],
   "source": [
    "def rel_non_rel(arr):\n",
    "    rel = arr[:top]\n",
    "    non_rel = arr[len(arr)-last:]\n",
    "    return rel, non_rel"
   ]
  },
  {
   "cell_type": "code",
   "execution_count": 18,
   "metadata": {},
   "outputs": [
    {
     "data": {
      "text/plain": [
       "array([[0., 1., 0., 0.],\n",
       "       [0., 0., 1., 0.],\n",
       "       [0., 0., 0., 1.]])"
      ]
     },
     "execution_count": 18,
     "metadata": {},
     "output_type": "execute_result"
    }
   ],
   "source": [
    "##debug\n",
    "\n",
    "arrs = [[1,0,0,0],[0,1,0,0],[0,0,0,1]]\n",
    "arrs2 = [[0,0,0,0],[1,0,0,0],[0,1,0,0],[0,0,0,1]]\n",
    "cosine_similarity(arrs,arrs2)\n",
    "\n",
    "# sum_rel = [0]*4\n",
    "# for k in range(len(arrs)):\n",
    "#     sum_rel = np.add(sum_rel, arrs[k])\n",
    "    \n",
    "# sum_rel =  arrs[0] +np.multiply(sum_rel, 2) - np.multiply([0, 0,1,1],0.2)\n",
    "# print(sum_rel)\n",
    "\n"
   ]
  },
  {
   "cell_type": "code",
   "execution_count": 16,
   "metadata": {
    "collapsed": true
   },
   "outputs": [],
   "source": [
    "def newQuery(origin_q, sim_arr):\n",
    "    \n",
    "    sim_arr = [x for _,x in reversed(sorted(zip(sim_arr,tfidf_dj)))]\n",
    "    #split rel, non_rel\n",
    "    rel, non_rel = rel_non_rel(sim_arr)\n",
    "    \n",
    "    #sum rel docs\n",
    "    sum_rel = [0]*len(word_list)\n",
    "    for k in range(len(rel)):\n",
    "        sum_rel = np.add(sum_rel, rel[k])\n",
    "\n",
    "    sum_non_rel = [0]*len(word_list)\n",
    "    for k in range(len(non_rel)):\n",
    "        sum_non_rel = np.add(sum_non_rel, non_rel[k])\n",
    "    \n",
    "    # np.multiply(arr[0], alpha) - np.multiply(non_rel,gamma)\n",
    "    new_q = np.multiply(origin_q, alpha) + np.multiply(sum_rel, beta/len(rel)) - np.multiply(sum_non_rel,gamma/len(non_rel))\n",
    "\n",
    "\n",
    "    return new_q\n",
    "    "
   ]
  },
  {
   "cell_type": "code",
   "execution_count": 17,
   "metadata": {
    "collapsed": true
   },
   "outputs": [],
   "source": [
    "tfidf_q  = [tf2vector(tf_qj_wi[j]) for j in range(len(tf_qj_wi))]"
   ]
  },
  {
   "cell_type": "code",
   "execution_count": null,
   "metadata": {
    "collapsed": true
   },
   "outputs": [],
   "source": []
  },
  {
   "cell_type": "code",
   "execution_count": null,
   "metadata": {
    "collapsed": true
   },
   "outputs": [],
   "source": []
  },
  {
   "cell_type": "code",
   "execution_count": 18,
   "metadata": {
    "collapsed": true
   },
   "outputs": [],
   "source": [
    "ori_all, s_all = sim(tfidf_q)"
   ]
  },
  {
   "cell_type": "code",
   "execution_count": 29,
   "metadata": {},
   "outputs": [],
   "source": [
    "new_querys = [newQuery(ori_all[i],s_all[i]) for i in range(len(s_all))]"
   ]
  },
  {
   "cell_type": "code",
   "execution_count": 32,
   "metadata": {},
   "outputs": [
    {
     "data": {
      "text/plain": [
       "800"
      ]
     },
     "execution_count": 32,
     "metadata": {},
     "output_type": "execute_result"
    }
   ],
   "source": []
  },
  {
   "cell_type": "code",
   "execution_count": 33,
   "metadata": {
    "collapsed": true
   },
   "outputs": [],
   "source": [
    "ori_all, s_all  = sim(new_querys)"
   ]
  },
  {
   "cell_type": "code",
   "execution_count": 34,
   "metadata": {
    "collapsed": true
   },
   "outputs": [],
   "source": [
    "result = s_all"
   ]
  },
  {
   "cell_type": "code",
   "execution_count": 47,
   "metadata": {},
   "outputs": [],
   "source": [
    "for k in range(0,it):\n",
    "    #initial\n",
    "    if k == 0:\n",
    "        ori_all, s_all = sim(tfidf_q)\n",
    "    new_querys = [newQuery(ori_all[i],s_all[i]) for i in range(len(s_all))]\n",
    "    ori_all, s_all  = sim(new_querys)\n",
    "\n",
    "result = s_all"
   ]
  },
  {
   "cell_type": "code",
   "execution_count": 48,
   "metadata": {
    "collapsed": true
   },
   "outputs": [],
   "source": [
    "with open(time.ctime()+'submission.txt', 'w') as t:\n",
    "    t.write('Query,RetrievedDocuments\\n')\n",
    "    for j in range(len(query_names)):\n",
    "        ans = ' '.join([x for _,x in reversed(sorted(zip(result[j],doc_names)))])\n",
    "        t.write('%s,%s\\n' %(query_names[j],ans))"
   ]
  },
  {
   "cell_type": "code",
   "execution_count": null,
   "metadata": {
    "collapsed": true
   },
   "outputs": [],
   "source": []
  }
 ],
 "metadata": {
  "kernelspec": {
   "display_name": "Python 3",
   "language": "python",
   "name": "python3"
  },
  "language_info": {
   "codemirror_mode": {
    "name": "ipython",
    "version": 3
   },
   "file_extension": ".py",
   "mimetype": "text/x-python",
   "name": "python",
   "nbconvert_exporter": "python",
   "pygments_lexer": "ipython3",
   "version": "3.5.3"
  }
 },
 "nbformat": 4,
 "nbformat_minor": 2
}
